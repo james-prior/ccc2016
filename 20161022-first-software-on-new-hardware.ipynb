{
 "cells": [
  {
   "cell_type": "markdown",
   "metadata": {},
   "source": [
    "2016-10-23:\n",
    "\n",
    "I am refactoring the presentation and the code for it.\n",
    "It will posted in this repo as I improve it.\n",
    "\n",
    "First will be the very first software.\n",
    "It had three header files and one C file.\n",
    "Those will be consolidated to just one file."
   ]
  },
  {
   "cell_type": "markdown",
   "metadata": {},
   "source": [
    "# First Software on New Hardware\n",
    "### Jim Prior\n",
    "\n",
    "### https://github.com/james-prior/ccc2016\n",
    "\n",
    "---\n",
    "# Columbus Arduino Raspberry Pi Enthusiasts\n",
    "### (CARPE)\n",
    "### http://colug.net/carpe/\n",
    "CARPE has people who play and work with embedded microcontrollers.\n",
    "It has a good mix of beginners and experienced professionals\n",
    "who play with hardware and software."
   ]
  },
  {
   "cell_type": "markdown",
   "metadata": {},
   "source": [
    "Starting from scratch, as I did, is the hardest way\n",
    "to do first software on new hardware.\n",
    "\n",
    "If you can, start with a known good example of both software and hardware. \n",
    "Chip vendors often have such available as\n",
    "[evaluation boards or development kits](https://www.silabs.com/Support Documents/TechnicalDocs/C8051F34x-DK.pdf)\n",
    "to show off what their chips do\n",
    "and to make it easy for you to use them.\n",
    "Often that includes example programs.\n",
    "You will not care what the program does, only that it works.\n",
    "Once you have it running on the evaluation board,\n",
    "modify one tiny thing (software or hardware) at a time\n",
    "until you have the hardware and software that you want.\n",
    "\n",
    "Even that is too much for beginners.\n",
    "For beginners, start with\n",
    "[Arduino](https://en.wikipedia.org/wiki/Arduino)s.\n",
    "Their hardware is nothing particularly special.\n",
    "What's good about their hardware is that it is open source\n",
    "and cheap. One can often get an Arduino Uno at Microcenter for $6.\n",
    "But what makes Arduinos special is the development environment.\n",
    "They have figured out how to make it easy for non-technical \n",
    "people to make little computers that work.\n",
    "*That* is a huge accomplishment.\n",
    "*That* is what makes Arduino special."
   ]
  },
  {
   "cell_type": "markdown",
   "metadata": {},
   "source": [
    "---\n",
    "talking points"
   ]
  },
  {
   "cell_type": "markdown",
   "metadata": {},
   "source": [
    "- show pictures\n",
    "- show schematic\n",
    "\n",
    "  we will concentrate on just:\n",
    "    - we will concentrate on\n",
    "    - power supply\n",
    "    - blinking LED - it's the simplest output to do\n",
    "    - UART - very very useful for \n",
    "- show datasheet\n"
   ]
  },
  {
   "cell_type": "markdown",
   "metadata": {},
   "source": [
    "# KISS!!!\n",
    "\n",
    "- start with the very very simple\n",
    "- progress to the complex"
   ]
  },
  {
   "cell_type": "markdown",
   "metadata": {},
   "source": [
    "IDEs\n",
    "- every IDE is different from other\n",
    "  - requires time to learn each one\n",
    "  - reinvent the wheel, badly\n",
    "    - wierd make\n",
    "- do not follow UNIX philosophy\n",
    "  - can not modify\n",
    "  - often do not integrate well with external programs\n",
    "    - programmer\n",
    "    - make\n",
    "- GUI\n",
    "  - slow me down by requiring mouse use\n",
    "  - hard to automate\n",
    "  - slow over remote link"
   ]
  },
  {
   "cell_type": "markdown",
   "metadata": {},
   "source": [
    "# for each step,\n",
    "- discuss goal (and maybe problem)\n",
    "- show schematic if relevant\n",
    "- show source code (and maybe differences)\n",
    "- show video\n",
    "- discuss problem and next step"
   ]
  },
  {
   "cell_type": "markdown",
   "metadata": {},
   "source": [
    "# the steps\n",
    "- ccc01 just toggle led (success and failure)\n",
    "- ccc02 toggle led\n",
    "- ccc03 uart send 'U'\n",
    "- ccc04 uart echo\n",
    "- ccc05 uart echo c+1\n",
    "- ccc06 uart interrupt driven\n",
    "- ccc07 uart main loop sleep"
   ]
  },
  {
   "cell_type": "markdown",
   "metadata": {},
   "source": [
    "# [RS-232 (UARTs)](https://en.wikipedia.org/wiki/UART)\n",
    "\n",
    "- it is **so** old fashioned\n",
    "- it is slow\n",
    "- it is not modern\n",
    "- isn't USB much better? faster? sophisticated?\n",
    "- aren't my IDE/emulator's abilities much better?"
   ]
  },
  {
   "cell_type": "markdown",
   "metadata": {},
   "source": [
    "# [RS-232 (UARTs)](https://en.wikipedia.org/wiki/UART) are  great for development and debugging\n",
    "\n",
    "- is simple\n",
    "  - easy to get working\n",
    "- is real-time\n",
    "  - great for spitting out timely diagnostic data\n",
    "    without stopping the program\n",
    "- can spew indefinitely\n",
    "- can be logged and analyzed later ad-naseum\n",
    "- is available on most microcontrollers\n",
    "- well supported\n",
    "  - plenty of hardware\n",
    "  - plenty of software\n",
    "- often does not conflict with the fancy I/O that is wanted"
   ]
  }
 ],
 "metadata": {
  "kernelspec": {
   "display_name": "Python 3",
   "language": "python",
   "name": "python3"
  },
  "language_info": {
   "codemirror_mode": {
    "name": "ipython",
    "version": 3
   },
   "file_extension": ".py",
   "mimetype": "text/x-python",
   "name": "python",
   "nbconvert_exporter": "python",
   "pygments_lexer": "ipython3",
   "version": "3.4.3"
  }
 },
 "nbformat": 4,
 "nbformat_minor": 0
}
