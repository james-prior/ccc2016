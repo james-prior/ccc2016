{
 "cells": [
  {
   "cell_type": "markdown",
   "metadata": {},
   "source": [
    "2016-10-27:\n",
    "\n",
    "I am refactoring the presentation and the code for it.\n",
    "It will be posted in this repo as I improve it."
   ]
  },
  {
   "cell_type": "markdown",
   "metadata": {},
   "source": [
    "# First Software on New Hardware\n",
    "### Jim Prior\n",
    "\n",
    "### https://github.com/james-prior/ccc2016\n",
    "\n",
    "---\n",
    "# Columbus Arduino Raspberry Pi Enthusiasts (CARPE) http://colug.net/carpe/\n",
    "\n",
    "CARPE has people who play and work with embedded microcontrollers.\n",
    "It has a good mix of beginners and experienced professionals\n",
    "who play with hardware and software."
   ]
  },
  {
   "cell_type": "markdown",
   "metadata": {},
   "source": [
    "This presentation is for programmers who have no experience\n",
    "with hardware but are curious about it.\n",
    "I want to give you a feel for how software and hardware meet.\n",
    "If it seems like this presentation is way over your head,\n",
    "don't worry. You are in the right place.\n",
    "I am giving a tour of how this kind of work actually goes.\n",
    "There is no pretense about beginners learning enough to apply it.\n",
    "Nonetheless, you will learn much just by watching.\n",
    "There will be many little things that you do not understand.\n",
    "I expect your questions about them."
   ]
  },
  {
   "cell_type": "markdown",
   "metadata": {},
   "source": [
    "Starting from scratch, as I did, is the hardest way\n",
    "to do first software on new hardware.\n",
    "\n",
    "If you can, start with a known good example of both software and hardware. \n",
    "Chip vendors often have such available as\n",
    "[evaluation boards or development kits](https://www.silabs.com/Support Documents/TechnicalDocs/C8051F34x-DK.pdf)\n",
    "to show off what their chips do\n",
    "and to make it easy for you to use them.\n",
    "Often that includes example programs.\n",
    "You will not care what the program does, only that it works.\n",
    "Once you have it running on the evaluation board,\n",
    "modify one tiny thing (software or hardware) at a time\n",
    "until you have the hardware and software that you want.\n",
    "\n",
    "Even that is too much for beginners.\n",
    "For beginners, start with\n",
    "[Arduino](https://en.wikipedia.org/wiki/Arduino)s.\n",
    "Their hardware is nothing particularly special.\n",
    "What's good about their hardware is that it is open source\n",
    "and cheap.\n",
    "One can often get a\n",
    "[clone](http://www.microcenter.com/product/431997/Arduino_Uno_R3_MainBoard)\n",
    "of an\n",
    "[Arduino Uno r3](https://www.arduino.cc/en/Main/ArduinoBoardUno)\n",
    "at [Microcenter](http://www.microcenter.com/) for $6.\n",
    "What makes Arduinos special is the development environment.\n",
    "They have figured out how to make it easy for non-technical \n",
    "people to make little computers that work.\n",
    "*That* is a huge accomplishment.\n",
    "*That* is what makes Arduino special."
   ]
  },
  {
   "cell_type": "markdown",
   "metadata": {},
   "source": [
    "---\n",
    "talking points"
   ]
  },
  {
   "cell_type": "markdown",
   "metadata": {},
   "source": [
    "- show pictures\n",
    "- show schematic\n",
    "\n",
    "  we will concentrate on just:\n",
    "    - we will concentrate on\n",
    "    - power supply\n",
    "    - blinking LED - it's the simplest output to do\n",
    "    - UART - very very useful for \n",
    "- show datasheet\n"
   ]
  },
  {
   "cell_type": "markdown",
   "metadata": {},
   "source": [
    "# KISS!!!\n",
    "\n",
    "- start with the very very simple\n",
    "- progress to the complex"
   ]
  },
  {
   "cell_type": "markdown",
   "metadata": {},
   "source": [
    "IDEs\n",
    "- every IDE is different from other\n",
    "  - requires time to learn each one\n",
    "  - reinvent the wheel, badly\n",
    "    - wierd make\n",
    "- often do not follow UNIX philosophy\n",
    "  - often can not modify\n",
    "  - often do not integrate well with external programs\n",
    "    - programmer\n",
    "    - make\n",
    "- GUI\n",
    "  - slow me down by requiring mouse use\n",
    "  - hard to automate\n",
    "  - slow over remote link"
   ]
  },
  {
   "cell_type": "markdown",
   "metadata": {},
   "source": [
    "# for each step,\n",
    "- discuss goal (and maybe problem)\n",
    "- show schematic if relevant\n",
    "- show source code (and maybe differences)\n",
    "- show video\n",
    "- discuss problem and/or next step\n",
    "\n",
    "Try to make software so that software bugs behave differently than hardware bugs."
   ]
  },
  {
   "cell_type": "markdown",
   "metadata": {},
   "source": [
    "# the steps\n",
    "- step01 turn LED on and off (fast): it does, but there is a problem\n",
    "- step02 turn LED on and off (fast)\n",
    "- step03 refactor one C file to use header files\n",
    "- step04 transmit 'U's out UART at 19200 bits/s\n",
    "- step05 echo received characters\n",
    "- step06 echo received character + 1\n",
    "- step07 interrupt driven I/O for UART\n",
    "- step08 sleep while idle"
   ]
  },
  {
   "cell_type": "markdown",
   "metadata": {},
   "source": [
    "# [RS-232 (UARTs)](https://en.wikipedia.org/wiki/UART)\n",
    "\n",
    "- it is **so** old fashioned\n",
    "- it is slow\n",
    "- it is not modern\n",
    "- isn't USB much better? faster? sophisticated?\n",
    "- aren't my IDE/emulator's abilities much better?"
   ]
  },
  {
   "cell_type": "markdown",
   "metadata": {},
   "source": [
    "# [RS-232 (UARTs)](https://en.wikipedia.org/wiki/UART) are  great for development and debugging\n",
    "\n",
    "- is simple\n",
    "  - easy to get working\n",
    "- is real-time\n",
    "  - great for spitting out timely diagnostic data\n",
    "    without stopping the program\n",
    "- can spew indefinitely\n",
    "- can be logged and analyzed later ad-naseum\n",
    "- is available on most microcontrollers\n",
    "- well supported\n",
    "  - plenty of hardware\n",
    "  - plenty of software\n",
    "- often does not conflict with the fancy I/O that is wanted"
   ]
  }
 ],
 "metadata": {
  "kernelspec": {
   "display_name": "Python 3",
   "language": "python",
   "name": "python3"
  },
  "language_info": {
   "codemirror_mode": {
    "name": "ipython",
    "version": 3
   },
   "file_extension": ".py",
   "mimetype": "text/x-python",
   "name": "python",
   "nbconvert_exporter": "python",
   "pygments_lexer": "ipython3",
   "version": "3.4.3"
  }
 },
 "nbformat": 4,
 "nbformat_minor": 0
}
